{
 "cells": [
  {
   "cell_type": "code",
   "execution_count": 90,
   "id": "fd1a4808",
   "metadata": {},
   "outputs": [],
   "source": [
    "import pandas as pd\n",
    "from IPython.display import HTML\n",
    "import base64"
   ]
  },
  {
   "cell_type": "code",
   "execution_count": 91,
   "id": "e06eddcd",
   "metadata": {},
   "outputs": [],
   "source": [
    "patients = pd.read_csv(\"datasets/patients.csv\")\n",
    "appointments = pd.read_csv(\"datasets/appointments.csv\")\n",
    "treatments = pd.read_csv(\"datasets/treatments.csv\")\n",
    "doctors = pd.read_csv(\"datasets/doctors.csv\")\n",
    "billing = pd.read_csv(\"datasets/billing.csv\")"
   ]
  },
  {
   "cell_type": "markdown",
   "id": "97ff5ae3",
   "metadata": {},
   "source": [
    "## Checked the structure and completeness of each dataset using `.info()` and `.isnull().sum()` to confirm column types and detect any missing values.\n"
   ]
  },
  {
   "cell_type": "code",
   "execution_count": 92,
   "id": "e9a7c13e",
   "metadata": {},
   "outputs": [
    {
     "name": "stdout",
     "output_type": "stream",
     "text": [
      "<class 'pandas.core.frame.DataFrame'>\n",
      "RangeIndex: 50 entries, 0 to 49\n",
      "Data columns (total 11 columns):\n",
      " #   Column              Non-Null Count  Dtype \n",
      "---  ------              --------------  ----- \n",
      " 0   patient_id          50 non-null     object\n",
      " 1   first_name          50 non-null     object\n",
      " 2   last_name           50 non-null     object\n",
      " 3   gender              50 non-null     object\n",
      " 4   date_of_birth       50 non-null     object\n",
      " 5   contact_number      50 non-null     int64 \n",
      " 6   address             50 non-null     object\n",
      " 7   registration_date   50 non-null     object\n",
      " 8   insurance_provider  50 non-null     object\n",
      " 9   insurance_number    50 non-null     object\n",
      " 10  email               50 non-null     object\n",
      "dtypes: int64(1), object(10)\n",
      "memory usage: 4.4+ KB\n",
      "info in patients: None\n",
      "\n",
      "Nulls in patients: patient_id            0\n",
      "first_name            0\n",
      "last_name             0\n",
      "gender                0\n",
      "date_of_birth         0\n",
      "contact_number        0\n",
      "address               0\n",
      "registration_date     0\n",
      "insurance_provider    0\n",
      "insurance_number      0\n",
      "email                 0\n",
      "dtype: int64\n",
      "\n"
     ]
    }
   ],
   "source": [
    "print(\"info in patients:\", patients.info())\n",
    "print()\n",
    "print(\"Nulls in patients:\", patients.isnull().sum())\n",
    "print()"
   ]
  },
  {
   "cell_type": "code",
   "execution_count": 93,
   "id": "141299d8",
   "metadata": {},
   "outputs": [
    {
     "name": "stdout",
     "output_type": "stream",
     "text": [
      "<class 'pandas.core.frame.DataFrame'>\n",
      "RangeIndex: 200 entries, 0 to 199\n",
      "Data columns (total 7 columns):\n",
      " #   Column            Non-Null Count  Dtype \n",
      "---  ------            --------------  ----- \n",
      " 0   appointment_id    200 non-null    object\n",
      " 1   patient_id        200 non-null    object\n",
      " 2   doctor_id         200 non-null    object\n",
      " 3   appointment_date  200 non-null    object\n",
      " 4   appointment_time  200 non-null    object\n",
      " 5   reason_for_visit  200 non-null    object\n",
      " 6   status            200 non-null    object\n",
      "dtypes: object(7)\n",
      "memory usage: 11.1+ KB\n",
      "info in appointments: None\n",
      "\n",
      "Nulls in appointments: appointment_id      0\n",
      "patient_id          0\n",
      "doctor_id           0\n",
      "appointment_date    0\n",
      "appointment_time    0\n",
      "reason_for_visit    0\n",
      "status              0\n",
      "dtype: int64\n",
      "\n"
     ]
    }
   ],
   "source": [
    "print(\"info in appointments:\", appointments.info())\n",
    "print()\n",
    "print(\"Nulls in appointments:\", appointments.isnull().sum())\n",
    "print()"
   ]
  },
  {
   "cell_type": "code",
   "execution_count": 94,
   "id": "553262f0",
   "metadata": {},
   "outputs": [
    {
     "name": "stdout",
     "output_type": "stream",
     "text": [
      "<class 'pandas.core.frame.DataFrame'>\n",
      "RangeIndex: 200 entries, 0 to 199\n",
      "Data columns (total 6 columns):\n",
      " #   Column          Non-Null Count  Dtype  \n",
      "---  ------          --------------  -----  \n",
      " 0   treatment_id    200 non-null    object \n",
      " 1   appointment_id  200 non-null    object \n",
      " 2   treatment_type  200 non-null    object \n",
      " 3   description     200 non-null    object \n",
      " 4   cost            200 non-null    float64\n",
      " 5   treatment_date  200 non-null    object \n",
      "dtypes: float64(1), object(5)\n",
      "memory usage: 9.5+ KB\n",
      "info in treatments: None\n",
      "\n",
      "Nulls in treatments: treatment_id      0\n",
      "appointment_id    0\n",
      "treatment_type    0\n",
      "description       0\n",
      "cost              0\n",
      "treatment_date    0\n",
      "dtype: int64\n",
      "\n"
     ]
    }
   ],
   "source": [
    "print(\"info in treatments:\", treatments.info())\n",
    "print()\n",
    "print(\"Nulls in treatments:\", treatments.isnull().sum())\n",
    "print()"
   ]
  },
  {
   "cell_type": "code",
   "execution_count": 95,
   "id": "dc623b64",
   "metadata": {},
   "outputs": [
    {
     "name": "stdout",
     "output_type": "stream",
     "text": [
      "<class 'pandas.core.frame.DataFrame'>\n",
      "RangeIndex: 10 entries, 0 to 9\n",
      "Data columns (total 8 columns):\n",
      " #   Column            Non-Null Count  Dtype \n",
      "---  ------            --------------  ----- \n",
      " 0   doctor_id         10 non-null     object\n",
      " 1   first_name        10 non-null     object\n",
      " 2   last_name         10 non-null     object\n",
      " 3   specialization    10 non-null     object\n",
      " 4   phone_number      10 non-null     int64 \n",
      " 5   years_experience  10 non-null     int64 \n",
      " 6   hospital_branch   10 non-null     object\n",
      " 7   email             10 non-null     object\n",
      "dtypes: int64(2), object(6)\n",
      "memory usage: 772.0+ bytes\n",
      "info in doctors: None\n",
      "\n",
      "Nulls in doctors: doctor_id           0\n",
      "first_name          0\n",
      "last_name           0\n",
      "specialization      0\n",
      "phone_number        0\n",
      "years_experience    0\n",
      "hospital_branch     0\n",
      "email               0\n",
      "dtype: int64\n",
      "\n"
     ]
    }
   ],
   "source": [
    "print(\"info in doctors:\", doctors.info())\n",
    "print()\n",
    "print(\"Nulls in doctors:\", doctors.isnull().sum())\n",
    "print()"
   ]
  },
  {
   "cell_type": "code",
   "execution_count": 96,
   "id": "9d1dd36f",
   "metadata": {},
   "outputs": [
    {
     "name": "stdout",
     "output_type": "stream",
     "text": [
      "<class 'pandas.core.frame.DataFrame'>\n",
      "RangeIndex: 200 entries, 0 to 199\n",
      "Data columns (total 7 columns):\n",
      " #   Column          Non-Null Count  Dtype  \n",
      "---  ------          --------------  -----  \n",
      " 0   bill_id         200 non-null    object \n",
      " 1   patient_id      200 non-null    object \n",
      " 2   treatment_id    200 non-null    object \n",
      " 3   bill_date       200 non-null    object \n",
      " 4   amount          200 non-null    float64\n",
      " 5   payment_method  200 non-null    object \n",
      " 6   payment_status  200 non-null    object \n",
      "dtypes: float64(1), object(6)\n",
      "memory usage: 11.1+ KB\n",
      "info in billing: None\n",
      "\n",
      "Nulls in billing: bill_id           0\n",
      "patient_id        0\n",
      "treatment_id      0\n",
      "bill_date         0\n",
      "amount            0\n",
      "payment_method    0\n",
      "payment_status    0\n",
      "dtype: int64\n",
      "\n"
     ]
    }
   ],
   "source": [
    "print(\"info in billing:\", billing.info())\n",
    "print()\n",
    "print(\"Nulls in billing:\", billing.isnull().sum())\n",
    "print()"
   ]
  },
  {
   "cell_type": "markdown",
   "id": "6f8f33fb",
   "metadata": {},
   "source": [
    "## Checked for duplicate rows across all datasets and confirmed that key identifier columns like `appointment_id`, `treatment_id`, and `patient_id` contain only unique values.\n"
   ]
  },
  {
   "cell_type": "code",
   "execution_count": 97,
   "id": "efe0353e",
   "metadata": {},
   "outputs": [
    {
     "name": "stdout",
     "output_type": "stream",
     "text": [
      "Duplicate in patients: 0\n",
      "\n",
      "Duplicate appointment_id values: 0\n"
     ]
    }
   ],
   "source": [
    "print(\"Duplicate in patients:\", patients.duplicated().sum())\n",
    "print()\n",
    "print(\"Duplicate appointment_id values:\", appointments['appointment_id'].duplicated().sum())"
   ]
  },
  {
   "cell_type": "code",
   "execution_count": 98,
   "id": "7e838cab",
   "metadata": {},
   "outputs": [
    {
     "name": "stdout",
     "output_type": "stream",
     "text": [
      "Duplicate in appointments: 0\n",
      "\n",
      "Duplicate patients_id values: 0\n"
     ]
    }
   ],
   "source": [
    "print(\"Duplicate in appointments:\", appointments.duplicated().sum())\n",
    "print()\n",
    "print(\"Duplicate patients_id values:\", patients['patient_id'].duplicated().sum())"
   ]
  },
  {
   "cell_type": "code",
   "execution_count": 99,
   "id": "ff732298",
   "metadata": {},
   "outputs": [
    {
     "name": "stdout",
     "output_type": "stream",
     "text": [
      "Duplicate in treatments: 0\n",
      "\n",
      "Duplicate treatments_id values: 0\n"
     ]
    }
   ],
   "source": [
    "print(\"Duplicate in treatments:\", treatments.duplicated().sum())\n",
    "print()\n",
    "print(\"Duplicate treatments_id values:\", treatments['treatment_id'].duplicated().sum())"
   ]
  },
  {
   "cell_type": "code",
   "execution_count": 100,
   "id": "d6c7c31a",
   "metadata": {},
   "outputs": [
    {
     "name": "stdout",
     "output_type": "stream",
     "text": [
      "Duplicate in doctors: 0\n",
      "\n",
      "Duplicate doctors_id values: 0\n"
     ]
    }
   ],
   "source": [
    "print(\"Duplicate in doctors:\", doctors.duplicated().sum())\n",
    "print()\n",
    "print(\"Duplicate doctors_id values:\", doctors['doctor_id'].duplicated().sum())"
   ]
  },
  {
   "cell_type": "code",
   "execution_count": 101,
   "id": "e7989854",
   "metadata": {},
   "outputs": [
    {
     "name": "stdout",
     "output_type": "stream",
     "text": [
      "Duplicate in billing: 0\n",
      "\n",
      "Duplicate billing_id values: 0\n"
     ]
    }
   ],
   "source": [
    "print(\"Duplicate in billing:\", billing.duplicated().sum())\n",
    "print()\n",
    "print(\"Duplicate billing_id values:\", billing['bill_id'].duplicated().sum())"
   ]
  },
  {
   "cell_type": "markdown",
   "id": "443ab731",
   "metadata": {},
   "source": [
    "## Converted date-related columns like `appointment_date`, `treatment_date`, `bill_date`, and patient registration fields to proper datetime format for time-based analysis.\n"
   ]
  },
  {
   "cell_type": "code",
   "execution_count": 102,
   "id": "0af666b7",
   "metadata": {},
   "outputs": [
    {
     "name": "stdout",
     "output_type": "stream",
     "text": [
      "\n",
      "datetime64[ns]\n"
     ]
    }
   ],
   "source": [
    "appointments['appointment_date'] = pd.to_datetime(appointments['appointment_date'])\n",
    "print()\n",
    "print(appointments['appointment_date'].dtypes)"
   ]
  },
  {
   "cell_type": "code",
   "execution_count": 103,
   "id": "9545013d",
   "metadata": {},
   "outputs": [
    {
     "name": "stdout",
     "output_type": "stream",
     "text": [
      "\n",
      "datetime64[ns]\n"
     ]
    }
   ],
   "source": [
    "treatments['treatment_date'] = pd.to_datetime(treatments['treatment_date'])\n",
    "print()\n",
    "print(treatments['treatment_date'].dtypes)"
   ]
  },
  {
   "cell_type": "code",
   "execution_count": 104,
   "id": "2d943ab8",
   "metadata": {},
   "outputs": [
    {
     "name": "stdout",
     "output_type": "stream",
     "text": [
      "\n",
      "datetime64[ns]\n"
     ]
    }
   ],
   "source": [
    "billing['bill_date'] = pd.to_datetime(billing['bill_date'])\n",
    "print()\n",
    "print(billing['bill_date'].dtypes)"
   ]
  },
  {
   "cell_type": "code",
   "execution_count": 105,
   "id": "0907106e",
   "metadata": {},
   "outputs": [
    {
     "name": "stdout",
     "output_type": "stream",
     "text": [
      "\n",
      "datetime64[ns]\n"
     ]
    }
   ],
   "source": [
    "patients['date_of_birth'] = pd.to_datetime(patients['date_of_birth'])\n",
    "print()\n",
    "print(patients['date_of_birth'].dtypes)"
   ]
  },
  {
   "cell_type": "code",
   "execution_count": 106,
   "id": "25f338db",
   "metadata": {},
   "outputs": [
    {
     "name": "stdout",
     "output_type": "stream",
     "text": [
      "\n",
      "datetime64[ns]\n"
     ]
    }
   ],
   "source": [
    "patients['registration_date'] = pd.to_datetime(patients['registration_date'])\n",
    "print()\n",
    "print(patients['registration_date'].dtypes)"
   ]
  },
  {
   "cell_type": "markdown",
   "id": "76b739e0",
   "metadata": {},
   "source": [
    "## Combined `appointment_date` and `appointment_time` into a single `appointment_datetime` column to simplify scheduling and time-based analysis.\n"
   ]
  },
  {
   "cell_type": "code",
   "execution_count": 107,
   "id": "06b637e4",
   "metadata": {},
   "outputs": [],
   "source": [
    "appointments['appointment_datetime'] = pd.to_datetime(\n",
    "    appointments['appointment_date'].astype(str) + ' ' + appointments['appointment_time']\n",
    ")"
   ]
  },
  {
   "cell_type": "code",
   "execution_count": 108,
   "id": "45477c8a",
   "metadata": {},
   "outputs": [
    {
     "data": {
      "text/html": [
       "<div>\n",
       "<style scoped>\n",
       "    .dataframe tbody tr th:only-of-type {\n",
       "        vertical-align: middle;\n",
       "    }\n",
       "\n",
       "    .dataframe tbody tr th {\n",
       "        vertical-align: top;\n",
       "    }\n",
       "\n",
       "    .dataframe thead th {\n",
       "        text-align: right;\n",
       "    }\n",
       "</style>\n",
       "<table border=\"1\" class=\"dataframe\">\n",
       "  <thead>\n",
       "    <tr style=\"text-align: right;\">\n",
       "      <th></th>\n",
       "      <th>appointment_id</th>\n",
       "      <th>patient_id</th>\n",
       "      <th>doctor_id</th>\n",
       "      <th>appointment_date</th>\n",
       "      <th>appointment_time</th>\n",
       "      <th>reason_for_visit</th>\n",
       "      <th>status</th>\n",
       "      <th>appointment_datetime</th>\n",
       "    </tr>\n",
       "  </thead>\n",
       "  <tbody>\n",
       "    <tr>\n",
       "      <th>0</th>\n",
       "      <td>A001</td>\n",
       "      <td>P034</td>\n",
       "      <td>D009</td>\n",
       "      <td>2023-08-09</td>\n",
       "      <td>15:15:00</td>\n",
       "      <td>Therapy</td>\n",
       "      <td>Scheduled</td>\n",
       "      <td>2023-08-09 15:15:00</td>\n",
       "    </tr>\n",
       "    <tr>\n",
       "      <th>1</th>\n",
       "      <td>A002</td>\n",
       "      <td>P032</td>\n",
       "      <td>D004</td>\n",
       "      <td>2023-06-09</td>\n",
       "      <td>14:30:00</td>\n",
       "      <td>Therapy</td>\n",
       "      <td>No-show</td>\n",
       "      <td>2023-06-09 14:30:00</td>\n",
       "    </tr>\n",
       "    <tr>\n",
       "      <th>2</th>\n",
       "      <td>A003</td>\n",
       "      <td>P048</td>\n",
       "      <td>D004</td>\n",
       "      <td>2023-06-28</td>\n",
       "      <td>8:00:00</td>\n",
       "      <td>Consultation</td>\n",
       "      <td>Cancelled</td>\n",
       "      <td>2023-06-28 08:00:00</td>\n",
       "    </tr>\n",
       "    <tr>\n",
       "      <th>3</th>\n",
       "      <td>A004</td>\n",
       "      <td>P025</td>\n",
       "      <td>D006</td>\n",
       "      <td>2023-09-01</td>\n",
       "      <td>9:15:00</td>\n",
       "      <td>Consultation</td>\n",
       "      <td>Cancelled</td>\n",
       "      <td>2023-09-01 09:15:00</td>\n",
       "    </tr>\n",
       "    <tr>\n",
       "      <th>4</th>\n",
       "      <td>A005</td>\n",
       "      <td>P040</td>\n",
       "      <td>D003</td>\n",
       "      <td>2023-07-06</td>\n",
       "      <td>12:45:00</td>\n",
       "      <td>Emergency</td>\n",
       "      <td>No-show</td>\n",
       "      <td>2023-07-06 12:45:00</td>\n",
       "    </tr>\n",
       "  </tbody>\n",
       "</table>\n",
       "</div>"
      ],
      "text/plain": [
       "  appointment_id patient_id doctor_id appointment_date appointment_time  \\\n",
       "0           A001       P034      D009       2023-08-09         15:15:00   \n",
       "1           A002       P032      D004       2023-06-09         14:30:00   \n",
       "2           A003       P048      D004       2023-06-28          8:00:00   \n",
       "3           A004       P025      D006       2023-09-01          9:15:00   \n",
       "4           A005       P040      D003       2023-07-06         12:45:00   \n",
       "\n",
       "  reason_for_visit     status appointment_datetime  \n",
       "0          Therapy  Scheduled  2023-08-09 15:15:00  \n",
       "1          Therapy    No-show  2023-06-09 14:30:00  \n",
       "2     Consultation  Cancelled  2023-06-28 08:00:00  \n",
       "3     Consultation  Cancelled  2023-09-01 09:15:00  \n",
       "4        Emergency    No-show  2023-07-06 12:45:00  "
      ]
     },
     "execution_count": 108,
     "metadata": {},
     "output_type": "execute_result"
    }
   ],
   "source": [
    "appointments.columns\n",
    "appointments.head()"
   ]
  },
  {
   "cell_type": "markdown",
   "id": "0d6220f8",
   "metadata": {},
   "source": [
    "## Verified the data types of the modified datasets using `.dtypes` to ensure all conversions (e.g., datetime and float types) were applied correctly.\n"
   ]
  },
  {
   "cell_type": "code",
   "execution_count": 109,
   "id": "7af102d2",
   "metadata": {},
   "outputs": [
    {
     "name": "stdout",
     "output_type": "stream",
     "text": [
      "appointment_id                  object\n",
      "patient_id                      object\n",
      "doctor_id                       object\n",
      "appointment_date        datetime64[ns]\n",
      "appointment_time                object\n",
      "reason_for_visit                object\n",
      "status                          object\n",
      "appointment_datetime    datetime64[ns]\n",
      "dtype: object\n",
      "treatment_id              object\n",
      "appointment_id            object\n",
      "treatment_type            object\n",
      "description               object\n",
      "cost                     float64\n",
      "treatment_date    datetime64[ns]\n",
      "dtype: object\n",
      "bill_id                   object\n",
      "patient_id                object\n",
      "treatment_id              object\n",
      "bill_date         datetime64[ns]\n",
      "amount                   float64\n",
      "payment_method            object\n",
      "payment_status            object\n",
      "dtype: object\n"
     ]
    }
   ],
   "source": [
    "print(appointments.dtypes)\n",
    "print(treatments.dtypes)\n",
    "print(billing.dtypes)"
   ]
  },
  {
   "cell_type": "markdown",
   "id": "e927add6",
   "metadata": {},
   "source": [
    "## Converted the `gender` column in the patients dataset to a categorical data type to optimize memory usage and support categorical analysis.\n"
   ]
  },
  {
   "cell_type": "code",
   "execution_count": 110,
   "id": "45d39277",
   "metadata": {},
   "outputs": [
    {
     "name": "stdout",
     "output_type": "stream",
     "text": [
      "\n",
      "category\n"
     ]
    }
   ],
   "source": [
    "patients['gender'] = patients['gender'].astype('category')\n",
    "print()\n",
    "print(patients['gender'].dtypes)"
   ]
  },
  {
   "cell_type": "markdown",
   "id": "861f829a",
   "metadata": {},
   "source": [
    "## Used `.value_counts()` to review common values in key categorical fields like appointment status, patient gender, and payment status to spot inconsistencies or dominant categories.\n"
   ]
  },
  {
   "cell_type": "code",
   "execution_count": 111,
   "id": "30d8b2b1",
   "metadata": {},
   "outputs": [
    {
     "name": "stdout",
     "output_type": "stream",
     "text": [
      "status\n",
      "No-show      52\n",
      "Scheduled    51\n",
      "Cancelled    51\n",
      "Completed    46\n",
      "Name: count, dtype: int64\n",
      "gender\n",
      "M    31\n",
      "F    19\n",
      "Name: count, dtype: int64\n",
      "payment_status\n",
      "Pending    69\n",
      "Failed     67\n",
      "Paid       64\n",
      "Name: count, dtype: int64\n"
     ]
    }
   ],
   "source": [
    "print(appointments['status'].value_counts())\n",
    "print(patients['gender'].value_counts())\n",
    "print(billing['payment_status'].value_counts())"
   ]
  },
  {
   "cell_type": "code",
   "execution_count": 112,
   "id": "1ec6e64b",
   "metadata": {},
   "outputs": [],
   "source": [
    "def create_download_link(df, filename=\"cleaned_data.csv\"):\n",
    "    csv = df.to_csv(index=False)\n",
    "    b64 = base64.b64encode(csv.encode()).decode()\n",
    "    return HTML(f'<a download=\"{filename}\" href=\"data:text/csv;base64,{b64}\">Download {filename}</a>')\n"
   ]
  },
  {
   "cell_type": "code",
   "execution_count": 114,
   "id": "fbd0238d",
   "metadata": {},
   "outputs": [
    {
     "data": {
      "text/html": [
       "<a download=\"cleaned_patients.csv\" href=\"data:text/csv;base64,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\">Download cleaned_patients.csv</a>"
      ],
      "text/plain": [
       "<IPython.core.display.HTML object>"
      ]
     },
     "execution_count": 114,
     "metadata": {},
     "output_type": "execute_result"
    }
   ],
   "source": [
    "create_download_link(patients, filename=\"cleaned_patients.csv\")\n"
   ]
  },
  {
   "cell_type": "code",
   "execution_count": 115,
   "id": "129d6dc8",
   "metadata": {},
   "outputs": [
    {
     "data": {
      "text/html": [
       "<a download=\"cleaned_appointments.csv\" href=\"data:text/csv;base64,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\">Download cleaned_appointments.csv</a>"
      ],
      "text/plain": [
       "<IPython.core.display.HTML object>"
      ]
     },
     "execution_count": 115,
     "metadata": {},
     "output_type": "execute_result"
    }
   ],
   "source": [
    "create_download_link(appointments, filename=\"cleaned_appointments.csv\")\n"
   ]
  },
  {
   "cell_type": "code",
   "execution_count": 116,
   "id": "b05b672d",
   "metadata": {},
   "outputs": [
    {
     "data": {
      "text/html": [
       "<a download=\"cleaned_treatments.csv\" href=\"data:text/csv;base64,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\">Download cleaned_treatments.csv</a>"
      ],
      "text/plain": [
       "<IPython.core.display.HTML object>"
      ]
     },
     "execution_count": 116,
     "metadata": {},
     "output_type": "execute_result"
    }
   ],
   "source": [
    "create_download_link(treatments, filename=\"cleaned_treatments.csv\")\n"
   ]
  },
  {
   "cell_type": "code",
   "execution_count": 117,
   "id": "ce156570",
   "metadata": {},
   "outputs": [
    {
     "data": {
      "text/html": [
       "<a download=\"cleaned_doctors.csv\" href=\"data:text/csv;base64,ZG9jdG9yX2lkLGZpcnN0X25hbWUsbGFzdF9uYW1lLHNwZWNpYWxpemF0aW9uLHBob25lX251bWJlcix5ZWFyc19leHBlcmllbmNlLGhvc3BpdGFsX2JyYW5jaCxlbWFpbA0KRDAwMSxEYXZpZCxUYXlsb3IsRGVybWF0b2xvZ3ksODMyMjAxMDE1OCwxNyxXZXN0c2lkZSBDbGluaWMsZHIuZGF2aWQudGF5bG9yQGhvc3BpdGFsLmNvbQ0KRDAwMixKYW5lLERhdmlzLFBlZGlhdHJpY3MsOTAwNDM4MjA1MCwyNCxFYXN0c2lkZSBDbGluaWMsZHIuamFuZS5kYXZpc0Bob3NwaXRhbC5jb20NCkQwMDMsSmFuZSxTbWl0aCxQZWRpYXRyaWNzLDg3Mzc3NDA1OTgsMTksRWFzdHNpZGUgQ2xpbmljLGRyLmphbmUuc21pdGhAaG9zcGl0YWwuY29tDQpEMDA0LERhdmlkLEpvbmVzLFBlZGlhdHJpY3MsNjU5NDIyMTk5MSwyOCxDZW50cmFsIEhvc3BpdGFsLGRyLmRhdmlkLmpvbmVzQGhvc3BpdGFsLmNvbQ0KRDAwNSxTYXJhaCxUYXlsb3IsRGVybWF0b2xvZ3ksOTExODUzODU0NywyNixDZW50cmFsIEhvc3BpdGFsLGRyLnNhcmFoLnRheWxvckBob3NwaXRhbC5jb20NCkQwMDYsQWxleCxEYXZpcyxQZWRpYXRyaWNzLDY1NzAxMzcyMzEsMjMsQ2VudHJhbCBIb3NwaXRhbCxkci5hbGV4LmRhdmlzQGhvc3BpdGFsLmNvbQ0KRDAwNyxSb2JlcnQsRGF2aXMsT25jb2xvZ3ksODIxNzQ5MzExNSwyNixXZXN0c2lkZSBDbGluaWMsZHIucm9iZXJ0LmRhdmlzQGhvc3BpdGFsLmNvbQ0KRDAwOCxMaW5kYSxCcm93bixEZXJtYXRvbG9neSw5MDY5MTYyNjAxLDUsV2VzdHNpZGUgQ2xpbmljLGRyLmxpbmRhLmJyb3duQGhvc3BpdGFsLmNvbQ0KRDAwOSxTYXJhaCxTbWl0aCxQZWRpYXRyaWNzLDczODcwODc1MTcsMjYsQ2VudHJhbCBIb3NwaXRhbCxkci5zYXJhaC5zbWl0aEBob3NwaXRhbC5jb20NCkQwMTAsTGluZGEsV2lsc29uLE9uY29sb2d5LDYxNzYzODM2MzQsMjEsRWFzdHNpZGUgQ2xpbmljLGRyLmxpbmRhLndpbHNvbkBob3NwaXRhbC5jb20NCg==\">Download cleaned_doctors.csv</a>"
      ],
      "text/plain": [
       "<IPython.core.display.HTML object>"
      ]
     },
     "execution_count": 117,
     "metadata": {},
     "output_type": "execute_result"
    }
   ],
   "source": [
    "create_download_link(doctors, filename=\"cleaned_doctors.csv\")\n"
   ]
  },
  {
   "cell_type": "code",
   "execution_count": 118,
   "id": "4f24714b",
   "metadata": {},
   "outputs": [
    {
     "data": {
      "text/html": [
       "<a download=\"cleaned_billing.csv\" href=\"data:text/csv;base64,YmlsbF9pZCxwYXRpZW50X2lkLHRyZWF0bWVudF9pZCxiaWxsX2RhdGUsYW1vdW50LHBheW1lbnRfbWV0aG9kLHBheW1lbnRfc3RhdHVzDQpCMDAxLFAwMzQsVDAwMSwyMDIzLTA4LTA5LDM5NDEuOTcsSW5zdXJhbmNlLFBlbmRpbmcNCkIwMDIsUDAzMixUMDAyLDIwMjMtMDYtMDksNDE1OC40NCxJbnN1cmFuY2UsUGFpZA0KQjAwMyxQMDQ4LFQwMDMsMjAyMy0wNi0yOCwzNzMxLjU1LEluc3VyYW5jZSxQYWlkDQpCMDA0LFAwMjUsVDAwNCwyMDIzLTA5LTAxLDQ3OTkuODYsSW5zdXJhbmNlLEZhaWxlZA0KQjAwNSxQMDQwLFQwMDUsMjAyMy0wNy0wNiw1ODIuMDUsQ3JlZGl0IENhcmQsUGVuZGluZw0KQjAwNixQMDQ1LFQwMDYsMjAyMy0wNi0xOSwxMzgxLjAsSW5zdXJhbmNlLFBlbmRpbmcNCkIwMDcsUDAwMSxUMDA3LDIwMjMtMDQtMDksNTM0LjAzLENhc2gsRmFpbGVkDQpCMDA4LFAwMTYsVDAwOCwyMDIzLTA1LTI0LDM0MTMuNjQsQ2FzaCxGYWlsZWQNCkIwMDksUDAzOSxUMDA5LDIwMjMtMDMtMDUsNDU0MS4xNCxDcmVkaXQgQ2FyZCxQYWlkDQpCMDEwLFAwMDUsVDAxMCwyMDIzLTAxLTEzLDE1OTUuNjcsQ2FzaCxQYWlkDQpCMDExLFAwMjIsVDAxMSwyMDIzLTExLTEyLDQ2NzEuNjYsQ2FzaCxGYWlsZWQNCkIwMTIsUDAyOSxUMDEyLDIwMjMtMDUtMDcsNzcxLjIsSW5zdXJhbmNlLFBlbmRpbmcNCkIwMTMsUDAwMyxUMDEzLDIwMjMtMDgtMTYsNDcwNC45NixDYXNoLFBhaWQNCkIwMTQsUDAxMixUMDE0LDIwMjMtMDUtMjUsMjA4Mi4zLENyZWRpdCBDYXJkLFBhaWQNCkIwMTUsUDAyNixUMDE1LDIwMjMtMDEtMTUsOTU2LjM5LEluc3VyYW5jZSxQZW5kaW5nDQpCMDE2LFAwMTYsVDAxNiwyMDIzLTA2LTMwLDI2ODYuNDIsSW5zdXJhbmNlLFBhaWQNCkIwMTcsUDAzNyxUMDE3LDIwMjMtMDctMTEsMTY1NS40OSxDcmVkaXQgQ2FyZCxQZW5kaW5nDQpCMDE4LFAwMjIsVDAxOCwyMDIzLTExLTE0LDE3ODEuOTMsSW5zdXJhbmNlLFBlbmRpbmcNCkIwMTksUDAyOSxUMDE5LDIwMjMtMDItMDYsMTg4Mi44LEluc3VyYW5jZSxQZW5kaW5nDQpCMDIwLFAwMTQsVDAyMCwyMDIzLTEyLTA1LDQxMTMuNjIsQ3JlZGl0IENhcmQsRmFpbGVkDQpCMDIxLFAwMjgsVDAyMSwyMDIzLTA0LTI0LDI5MjYuMjMsSW5zdXJhbmNlLEZhaWxlZA0KQjAyMixQMDA1LFQwMjIsMjAyMy0xMS0xNCwxOTAwLjg4LENyZWRpdCBDYXJkLEZhaWxlZA0KQjAyMyxQMDQ3LFQwMjMsMjAyMy0wNS0wOSwzMjQ2LjUsQ3JlZGl0IENhcmQsUGVuZGluZw0KQjAyNCxQMDQ5LFQwMjQsMjAyMy0wNi0yMSwzNzIyLjY4LENhc2gsUGVuZGluZw0KQjAyNSxQMDMwLFQwMjUsMjAyMy0wMi0yNSwxNzI2LjgxLENhc2gsRmFpbGVkDQpCMDI2LFAwNDYsVDAyNiwyMDIzLTAzLTE3LDIzNjAuOTcsSW5zdXJhbmNlLFBhaWQNCkIwMjcsUDAwNSxUMDI3LDIwMjMtMTEtMTQsMTA0OC40OSxJbnN1cmFuY2UsUGVuZGluZw0KQjAyOCxQMDEyLFQwMjgsMjAyMy0xMC0yOSwxMzE1LjE3LENyZWRpdCBDYXJkLFBhaWQNCkIwMjksUDAxNixUMDI5LDIwMjMtMDYtMjUsMzU2NS4wMyxJbnN1cmFuY2UsUGFpZA0KQjAzMCxQMDI2LFQwMzAsMjAyMy0wOC0yOSwxMzE2LjQ3LENyZWRpdCBDYXJkLFBlbmRpbmcNCkIwMzEsUDAyNixUMDMxLDIwMjMtMDQtMDQsMjg2My4yNCxDcmVkaXQgQ2FyZCxQZW5kaW5nDQpCMDMyLFAwNDgsVDAzMiwyMDIzLTExLTA2LDM2OTAuNzEsSW5zdXJhbmNlLFBhaWQNCkIwMzMsUDAyMSxUMDMzLDIwMjMtMDktMjMsOTgwLjk1LENyZWRpdCBDYXJkLFBhaWQNCkIwMzQsUDAzOSxUMDM0LDIwMjMtMDYtMTMsMzA1Mi45LENhc2gsRmFpbGVkDQpCMDM1LFAwMzYsVDAzNSwyMDIzLTA0LTE4LDE2NTQuNTMsSW5zdXJhbmNlLEZhaWxlZA0KQjAzNixQMDMzLFQwMzYsMjAyMy0wMS0wOCw0ODMzLjE3LENhc2gsUGVuZGluZw0KQjAzNyxQMDMwLFQwMzcsMjAyMy0wMy0yOCwyNjc1Ljk2LEluc3VyYW5jZSxGYWlsZWQNCkIwMzgsUDAzNyxUMDM4LDIwMjMtMDItMjMsNDEyNi45NyxDcmVkaXQgQ2FyZCxGYWlsZWQNCkIwMzksUDAyMyxUMDM5LDIwMjMtMDQtMTcsMjk3Ni4wMixJbnN1cmFuY2UsRmFpbGVkDQpCMDQwLFAwMTAsVDA0MCwyMDIzLTAzLTI3LDY5NS4zNixDYXNoLEZhaWxlZA0KQjA0MSxQMDA1LFQwNDEsMjAyMy0wMS0wMSwzMzQ5LjE4LENyZWRpdCBDYXJkLFBhaWQNCkIwNDIsUDAzNixUMDQyLDIwMjMtMDMtMjEsNDc4MS4zMixJbnN1cmFuY2UsUGVuZGluZw0KQjA0MyxQMDM0LFQwNDMsMjAyMy0wMy0yOSwzMjA3LjI1LEluc3VyYW5jZSxGYWlsZWQNCkIwNDQsUDAzMSxUMDQ0LDIwMjMtMDktMjAsNDE4Ni4zNSxJbnN1cmFuY2UsUGFpZA0KQjA0NSxQMDEwLFQwNDUsMjAyMy0wOS0yOCw0NDc4LjkzLENhc2gsUGFpZA0KQjA0NixQMDE5LFQwNDYsMjAyMy0xMi0yMCwxNTI2LjM2LENhc2gsUGFpZA0KQjA0NyxQMDMyLFQwNDcsMjAyMy0wNS0wMiwxNDU0LjIsSW5zdXJhbmNlLEZhaWxlZA0KQjA0OCxQMDAxLFQwNDgsMjAyMy0wMS0xNiwzMjQ5LjQxLENyZWRpdCBDYXJkLEZhaWxlZA0KQjA0OSxQMDA1LFQwNDksMjAyMy0wNC0zMCwyMzQ5LjYzLENyZWRpdCBDYXJkLFBlbmRpbmcNCkIwNTAsUDA0NSxUMDUwLDIwMjMtMDgtMTYsNDI3OS4zOCxDYXNoLEZhaWxlZA0KQjA1MSxQMDA0LFQwNTEsMjAyMy0wMi0wNCw0NTUwLjEsQ3JlZGl0IENhcmQsRmFpbGVkDQpCMDUyLFAwMTYsVDA1MiwyMDIzLTA3LTEyLDIwOTAuNCxDYXNoLFBhaWQNCkIwNTMsUDAyNCxUMDUzLDIwMjMtMDItMTIsMTU2NS45MixJbnN1cmFuY2UsUGVuZGluZw0KQjA1NCxQMDE2LFQwNTQsMjAyMy0xMi0xNiw0MDEyLjM2LENhc2gsRmFpbGVkDQpCMDU1LFAwMDIsVDA1NSwyMDIzLTEwLTA2LDE3MzYuNjMsQ2FzaCxGYWlsZWQNCkIwNTYsUDA0OSxUMDU2LDIwMjMtMDEtMDIsNDIwMS43NixJbnN1cmFuY2UsUGFpZA0KQjA1NyxQMDI4LFQwNTcsMjAyMy0wNC0xNSwyNDA2LjgyLENyZWRpdCBDYXJkLFBhaWQNCkIwNTgsUDAzMixUMDU4LDIwMjMtMDUtMDksMzUwMy45NyxDYXNoLEZhaWxlZA0KQjA1OSxQMDI3LFQwNTksMjAyMy0wMy0wOSw5MjkuOTEsQ2FzaCxQZW5kaW5nDQpCMDYwLFAwMjAsVDA2MCwyMDIzLTExLTIyLDMzMDcuMzcsSW5zdXJhbmNlLFBlbmRpbmcNCkIwNjEsUDAyNCxUMDYxLDIwMjMtMDEtMTUsMjUzMi45NSxDcmVkaXQgQ2FyZCxQYWlkDQpCMDYyLFAwMTIsVDA2MiwyMDIzLTA2LTE0LDMxMzkuNzQsQ2FzaCxQYWlkDQpCMDYzLFAwNTAsVDA2MywyMDIzLTA2LTI5LDEyNTYuMDYsSW5zdXJhbmNlLEZhaWxlZA0KQjA2NCxQMDM1LFQwNjQsMjAyMy0wNS0zMSwzODE1LjkzLENhc2gsUGFpZA0KQjA2NSxQMDMzLFQwNjUsMjAyMy0wNC0yNCw0MzgyLjU5LEluc3VyYW5jZSxGYWlsZWQNCkIwNjYsUDAzMyxUMDY2LDIwMjMtMDUtMTAsMTQ3NS4zMyxDcmVkaXQgQ2FyZCxQZW5kaW5nDQpCMDY3LFAwNDMsVDA2NywyMDIzLTA4LTEwLDkzMC43MixDcmVkaXQgQ2FyZCxQZW5kaW5nDQpCMDY4LFAwMzcsVDA2OCwyMDIzLTAzLTE0LDYwNi4zNyxDcmVkaXQgQ2FyZCxGYWlsZWQNCkIwNjksUDAxMixUMDY5LDIwMjMtMDMtMjksMzM4OC44NyxDcmVkaXQgQ2FyZCxQYWlkDQpCMDcwLFAwMDMsVDA3MCwyMDIzLTA4LTI2LDMyMzEuOTIsQ2FzaCxQZW5kaW5nDQpCMDcxLFAwMDEsVDA3MSwyMDIzLTAxLTI2LDI5NjAuMTQsQ2FzaCxQYWlkDQpCMDcyLFAwMzMsVDA3MiwyMDIzLTA2LTEyLDE1NDMuNzYsQ3JlZGl0IENhcmQsUGVuZGluZw0KQjA3MyxQMDQwLFQwNzMsMjAyMy0xMi0yNCwyMjU5LjA4LENyZWRpdCBDYXJkLEZhaWxlZA0KQjA3NCxQMDEwLFQwNzQsMjAyMy0wNy0yMywzMTc1LjE0LENyZWRpdCBDYXJkLEZhaWxlZA0KQjA3NSxQMDQzLFQwNzUsMjAyMy0wNS0wOCwyNzM1LjQ1LENhc2gsRmFpbGVkDQpCMDc2LFAwNDQsVDA3NiwyMDIzLTExLTI3LDQ5NDUuMDMsQ3JlZGl0IENhcmQsUGVuZGluZw0KQjA3NyxQMDI5LFQwNzcsMjAyMy0xMi0xNCwxMTEzLjk4LENyZWRpdCBDYXJkLFBhaWQNCkIwNzgsUDAxMyxUMDc4LDIwMjMtMDktMTcsMzYyOC4xNSxDcmVkaXQgQ2FyZCxQYWlkDQpCMDc5LFAwMTIsVDA3OSwyMDIzLTEyLTI2LDIzMTkuNDMsSW5zdXJhbmNlLFBhaWQNCkIwODAsUDAzMSxUMDgwLDIwMjMtMDYtMjYsMjQyNi45LENyZWRpdCBDYXJkLFBlbmRpbmcNCkIwODEsUDA0NixUMDgxLDIwMjMtMDEtMDYsMzcyOS4xOSxJbnN1cmFuY2UsUGVuZGluZw0KQjA4MixQMDAyLFQwODIsMjAyMy0wMS0yMCwzNjE1Ljk2LEluc3VyYW5jZSxQZW5kaW5nDQpCMDgzLFAwNTAsVDA4MywyMDIzLTExLTA3LDQ5NjAuNjUsQ3JlZGl0IENhcmQsUGVuZGluZw0KQjA4NCxQMDM1LFQwODQsMjAyMy0wNS0zMSwxMDc3Ljc3LEluc3VyYW5jZSxQZW5kaW5nDQpCMDg1LFAwMjMsVDA4NSwyMDIzLTAyLTE4LDk2OC40OSxDcmVkaXQgQ2FyZCxQYWlkDQpCMDg2LFAwMTcsVDA4NiwyMDIzLTEwLTI5LDM3NTkuNTIsQ2FzaCxQZW5kaW5nDQpCMDg3LFAwMjYsVDA4NywyMDIzLTEwLTE5LDMxMDIuNzQsQ2FzaCxQZW5kaW5nDQpCMDg4LFAwMDgsVDA4OCwyMDIzLTA1LTAyLDE3MzMuNzIsQ2FzaCxQYWlkDQpCMDg5LFAwMjksVDA4OSwyMDIzLTAyLTE0LDg1Ny4zOSxDYXNoLFBlbmRpbmcNCkIwOTAsUDAyNixUMDkwLDIwMjMtMDYtMDEsODg1LjQ2LEluc3VyYW5jZSxQYWlkDQpCMDkxLFAwMTAsVDA5MSwyMDIzLTA2LTExLDQ1MjMuODYsQ3JlZGl0IENhcmQsUGFpZA0KQjA5MixQMDI2LFQwOTIsMjAyMy0wMS0zMCwxMzYzLjQsQ3JlZGl0IENhcmQsRmFpbGVkDQpCMDkzLFAwMzQsVDA5MywyMDIzLTA0LTA5LDE5NTUuMTcsQ3JlZGl0IENhcmQsRmFpbGVkDQpCMDk0LFAwNDEsVDA5NCwyMDIzLTA0LTA4LDE1MTkuOTUsQ2FzaCxGYWlsZWQNCkIwOTUsUDAwNyxUMDk1LDIwMjMtMDUtMDksMjA5Ny40OCxDYXNoLEZhaWxlZA0KQjA5NixQMDA0LFQwOTYsMjAyMy0wNy0wNyw4MTIuNDEsQ3JlZGl0IENhcmQsUGVuZGluZw0KQjA5NyxQMDUwLFQwOTcsMjAyMy0wNS0wNiwyODM1Ljc3LENhc2gsRmFpbGVkDQpCMDk4LFAwNDUsVDA5OCwyMDIzLTAzLTE3LDgwNC4yNixDcmVkaXQgQ2FyZCxQYWlkDQpCMDk5LFAwMTEsVDA5OSwyMDIzLTA3LTA0LDQxMDEuNixDcmVkaXQgQ2FyZCxQZW5kaW5nDQpCMTAwLFAwMjksVDEwMCwyMDIzLTAzLTAyLDE1NTEuNyxDcmVkaXQgQ2FyZCxGYWlsZWQNCkIxMDEsUDAzNixUMTAxLDIwMjMtMDktMjEsMjkzMC4wNSxDcmVkaXQgQ2FyZCxQYWlkDQpCMTAyLFAwMjUsVDEwMiwyMDIzLTEwLTI1LDQ0NjAuMzYsQ3JlZGl0IENhcmQsUGVuZGluZw0KQjEwMyxQMDIxLFQxMDMsMjAyMy0wMS0yNCwzNDI4Ljk1LENyZWRpdCBDYXJkLFBlbmRpbmcNCkIxMDQsUDAzNixUMTA0LDIwMjMtMDQtMTgsMjg5OC4zMSxDcmVkaXQgQ2FyZCxGYWlsZWQNCkIxMDUsUDAxMCxUMTA1LDIwMjMtMDgtMTQsMTk1OS41LENhc2gsUGVuZGluZw0KQjEwNixQMDM3LFQxMDYsMjAyMy0xMC0yOSwxOTk4LjUxLENyZWRpdCBDYXJkLFBhaWQNCkIxMDcsUDAwOSxUMTA3LDIwMjMtMDQtMTcsMzUxMi42OSxDcmVkaXQgQ2FyZCxQZW5kaW5nDQpCMTA4LFAwMjQsVDEwOCwyMDIzLTA0LTIxLDQ5NzMuNjMsQ2FzaCxQYWlkDQpCMTA5LFAwMzUsVDEwOSwyMDIzLTA3LTI5LDM0NzguMjgsQ2FzaCxQZW5kaW5nDQpCMTEwLFAwNDksVDExMCwyMDIzLTA3LTE5LDMwMTAuMDMsQ2FzaCxGYWlsZWQNCkIxMTEsUDAzNSxUMTExLDIwMjMtMDUtMjIsMzc4Ny45MyxDcmVkaXQgQ2FyZCxQYWlkDQpCMTEyLFAwNDgsVDExMiwyMDIzLTAxLTExLDI1OTMuNDMsSW5zdXJhbmNlLFBlbmRpbmcNCkIxMTMsUDAzNixUMTEzLDIwMjMtMTEtMjQsNzcwLjY0LEluc3VyYW5jZSxQZW5kaW5nDQpCMTE0LFAwMTgsVDExNCwyMDIzLTA4LTA4LDMwMzAuMzQsQ2FzaCxQZW5kaW5nDQpCMTE1LFAwNDksVDExNSwyMDIzLTEwLTI1LDQ4MDkuMzEsSW5zdXJhbmNlLFBhaWQNCkIxMTYsUDAzOSxUMTE2LDIwMjMtMDctMDcsMTI4OC44NixDYXNoLFBhaWQNCkIxMTcsUDAzMixUMTE3LDIwMjMtMDYtMjAsMzYwNS4wMixDcmVkaXQgQ2FyZCxQYWlkDQpCMTE4LFAwMjQsVDExOCwyMDIzLTA4LTA5LDE0MDQuMixJbnN1cmFuY2UsRmFpbGVkDQpCMTE5LFAwMjMsVDExOSwyMDIzLTEyLTE4LDI5MTEuMjIsQ3JlZGl0IENhcmQsRmFpbGVkDQpCMTIwLFAwMzIsVDEyMCwyMDIzLTEyLTA4LDkzNS4wNCxJbnN1cmFuY2UsUGFpZA0KQjEyMSxQMDM3LFQxMjEsMjAyMy0wNC0wNywyNTI2LjY3LENyZWRpdCBDYXJkLFBlbmRpbmcNCkIxMjIsUDAxMixUMTIyLDIwMjMtMDctMTEsMzkwMi43MyxJbnN1cmFuY2UsRmFpbGVkDQpCMTIzLFAwNDksVDEyMywyMDIzLTAyLTI4LDIwNjQuMDcsQ3JlZGl0IENhcmQsUGFpZA0KQjEyNCxQMDEzLFQxMjQsMjAyMy0wMy0xNiwzNDkyLjEsQ3JlZGl0IENhcmQsUGVuZGluZw0KQjEyNSxQMDIzLFQxMjUsMjAyMy0wMi0xOCw0MDc5LjUyLEluc3VyYW5jZSxGYWlsZWQNCkIxMjYsUDAyNSxUMTI2LDIwMjMtMTEtMDIsNDY3Mi4zLENyZWRpdCBDYXJkLFBlbmRpbmcNCkIxMjcsUDAzNSxUMTI3LDIwMjMtMTEtMTMsMTU1NS44OSxDcmVkaXQgQ2FyZCxQZW5kaW5nDQpCMTI4LFAwNDEsVDEyOCwyMDIzLTA0LTE1LDIyOTYuOTIsQ3JlZGl0IENhcmQsUGVuZGluZw0KQjEyOSxQMDMwLFQxMjksMjAyMy0wOC0yNSwxMTg1Ljg3LEluc3VyYW5jZSxQZW5kaW5nDQpCMTMwLFAwMTcsVDEzMCwyMDIzLTAyLTIzLDQ5NjYuMTgsSW5zdXJhbmNlLEZhaWxlZA0KQjEzMSxQMDQ5LFQxMzEsMjAyMy0wNS0xMSw0NjcxLjUsQ3JlZGl0IENhcmQsRmFpbGVkDQpCMTMyLFAwMjAsVDEzMiwyMDIzLTA3LTI2LDI5MjkuODEsQ3JlZGl0IENhcmQsRmFpbGVkDQpCMTMzLFAwNDgsVDEzMywyMDIzLTAzLTIzLDQyODkuMTUsSW5zdXJhbmNlLFBhaWQNCkIxMzQsUDAyNSxUMTM0LDIwMjMtMTAtMTcsMjg0NC4zMSxJbnN1cmFuY2UsRmFpbGVkDQpCMTM1LFAwMjIsVDEzNSwyMDIzLTA5LTA5LDMzMDYuMTQsQ3JlZGl0IENhcmQsUGVuZGluZw0KQjEzNixQMDEzLFQxMzYsMjAyMy0wNS0xMyw5MDEuMDYsQ3JlZGl0IENhcmQsRmFpbGVkDQpCMTM3LFAwMTksVDEzNywyMDIzLTEwLTI1LDM4OTguNzIsQ3JlZGl0IENhcmQsUGVuZGluZw0KQjEzOCxQMDQ5LFQxMzgsMjAyMy0xMi0yNiwxMDc0LjcxLENhc2gsUGFpZA0KQjEzOSxQMDM2LFQxMzksMjAyMy0xMC0xMCw0MjE3LjMsSW5zdXJhbmNlLFBlbmRpbmcNCkIxNDAsUDAxMixUMTQwLDIwMjMtMDItMDUsNDAxOS4xMyxDYXNoLFBlbmRpbmcNCkIxNDEsUDA0MSxUMTQxLDIwMjMtMDYtMTUsMzY4OS4zNSxJbnN1cmFuY2UsUGVuZGluZw0KQjE0MixQMDE5LFQxNDIsMjAyMy0xMS0wMSw2NjIuNzIsSW5zdXJhbmNlLFBhaWQNCkIxNDMsUDAxMixUMTQzLDIwMjMtMDktMjEsMTg2NC4wOCxJbnN1cmFuY2UsRmFpbGVkDQpCMTQ0LFAwMDksVDE0NCwyMDIzLTA4LTE2LDE2ODQuMDEsSW5zdXJhbmNlLEZhaWxlZA0KQjE0NSxQMDA3LFQxNDUsMjAyMy0xMS0xMSwyMTIwLjYxLEluc3VyYW5jZSxQYWlkDQpCMTQ2LFAwMjgsVDE0NiwyMDIzLTAxLTA1LDg5NC4zOSxJbnN1cmFuY2UsUGVuZGluZw0KQjE0NyxQMDE0LFQxNDcsMjAyMy0xMS0xMyw0NzE2LjMxLEluc3VyYW5jZSxGYWlsZWQNCkIxNDgsUDAzMSxUMTQ4LDIwMjMtMTItMDYsMjk5Mi4xMSxDYXNoLFBhaWQNCkIxNDksUDAxOSxUMTQ5LDIwMjMtMDctMjYsMTg3NC44NixDcmVkaXQgQ2FyZCxGYWlsZWQNCkIxNTAsUDA0NyxUMTUwLDIwMjMtMDgtMTYsMjI4Ni40MixDcmVkaXQgQ2FyZCxQYWlkDQpCMTUxLFAwMTYsVDE1MSwyMDIzLTAxLTI4LDI1MTIuNDEsQ2FzaCxQZW5kaW5nDQpCMTUyLFAwMDUsVDE1MiwyMDIzLTA0LTE0LDMyMDIuNjcsQ2FzaCxGYWlsZWQNCkIxNTMsUDAzNSxUMTUzLDIwMjMtMDctMDgsMjgyMC41NixDYXNoLFBhaWQNCkIxNTQsUDAxMixUMTU0LDIwMjMtMDMtMDYsNDYzNy4yNixDYXNoLEZhaWxlZA0KQjE1NSxQMDI1LFQxNTUsMjAyMy0wMS0wMywyNzM2LjM0LEluc3VyYW5jZSxGYWlsZWQNCkIxNTYsUDAyMSxUMTU2LDIwMjMtMTEtMjIsNDk2NC43MSxDcmVkaXQgQ2FyZCxGYWlsZWQNCkIxNTcsUDAzNixUMTU3LDIwMjMtMDUtMTIsNDMzMS40MSxJbnN1cmFuY2UsRmFpbGVkDQpCMTU4LFAwMjMsVDE1OCwyMDIzLTA3LTEyLDE0MzguMyxDcmVkaXQgQ2FyZCxQYWlkDQpCMTU5LFAwMTYsVDE1OSwyMDIzLTA0LTA4LDQ2ODcuNjgsQ3JlZGl0IENhcmQsUGVuZGluZw0KQjE2MCxQMDM5LFQxNjAsMjAyMy0xMi0xNywxMDIzLjY1LENhc2gsUGFpZA0KQjE2MSxQMDQ1LFQxNjEsMjAyMy0wNi0xNyw0MTc4LjUyLEluc3VyYW5jZSxQYWlkDQpCMTYyLFAwNDIsVDE2MiwyMDIzLTAxLTAxLDIyMTIuOCxDYXNoLFBhaWQNCkIxNjMsUDAzOSxUMTYzLDIwMjMtMDYtMjcsNDQ1MC44OCxJbnN1cmFuY2UsUGVuZGluZw0KQjE2NCxQMDE0LFQxNjQsMjAyMy0wNy0yOCw0NDA2LjI2LENyZWRpdCBDYXJkLEZhaWxlZA0KQjE2NSxQMDMxLFQxNjUsMjAyMy0wNC0wNCw0MTI2LjY2LENhc2gsRmFpbGVkDQpCMTY2LFAwMDUsVDE2NiwyMDIzLTAxLTEyLDQwNTUuMTQsQ2FzaCxGYWlsZWQNCkIxNjcsUDAzNSxUMTY3LDIwMjMtMTEtMTUsMTg3MS4wNixDcmVkaXQgQ2FyZCxQZW5kaW5nDQpCMTY4LFAwMjMsVDE2OCwyMDIzLTA5LTI5LDg2NC4xNCxDcmVkaXQgQ2FyZCxGYWlsZWQNCkIxNjksUDAyOSxUMTY5LDIwMjMtMDctMjQsMjMxMy40MSxDcmVkaXQgQ2FyZCxQZW5kaW5nDQpCMTcwLFAwNDMsVDE3MCwyMDIzLTAzLTAzLDEyODAuODYsQ2FzaCxGYWlsZWQNCkIxNzEsUDAxMSxUMTcxLDIwMjMtMDQtMTgsMzYyNy4yOCxJbnN1cmFuY2UsRmFpbGVkDQpCMTcyLFAwMTgsVDE3MiwyMDIzLTAzLTA5LDIwNTcuNDUsQ2FzaCxQYWlkDQpCMTczLFAwNDcsVDE3MywyMDIzLTA2LTA0LDQ4OTAuMjUsSW5zdXJhbmNlLFBlbmRpbmcNCkIxNzQsUDAxMixUMTc0LDIwMjMtMTAtMzEsMzM4NC4zNyxDYXNoLFBhaWQNCkIxNzUsUDAwOSxUMTc1LDIwMjMtMTAtMjIsNDIwMS4xNixDYXNoLFBhaWQNCkIxNzYsUDAxMCxUMTc2LDIwMjMtMDQtMjYsMTA5Ni4zNixDcmVkaXQgQ2FyZCxQYWlkDQpCMTc3LFAwNDQsVDE3NywyMDIzLTA4LTE2LDQzNzkuMDcsSW5zdXJhbmNlLFBlbmRpbmcNCkIxNzgsUDAxNyxUMTc4LDIwMjMtMDEtMTcsNDY1Mi40MSxDYXNoLFBlbmRpbmcNCkIxNzksUDAzOCxUMTc5LDIwMjMtMDMtMDgsMjY5MS43OCxDYXNoLEZhaWxlZA0KQjE4MCxQMDA3LFQxODAsMjAyMy0wMS0wNywzMjI4LjE0LENyZWRpdCBDYXJkLFBhaWQNCkIxODEsUDA0NixUMTgxLDIwMjMtMDktMDMsMzk0MS42NCxDcmVkaXQgQ2FyZCxGYWlsZWQNCkIxODIsUDAxMyxUMTgyLDIwMjMtMDQtMTIsMTI4Ni43NyxJbnN1cmFuY2UsUGFpZA0KQjE4MyxQMDQwLFQxODMsMjAyMy0wMi0wMywyNzYxLjU1LENhc2gsUGVuZGluZw0KQjE4NCxQMDQyLFQxODQsMjAyMy0wMi0yNiwyMjkzLjk4LEluc3VyYW5jZSxQZW5kaW5nDQpCMTg1LFAwMDksVDE4NSwyMDIzLTAzLTIxLDExNTguNjgsQ2FzaCxQZW5kaW5nDQpCMTg2LFAwNTAsVDE4NiwyMDIzLTAzLTI3LDIxNTMuOSxJbnN1cmFuY2UsUGFpZA0KQjE4NyxQMDI3LFQxODcsMjAyMy0wMi0xMyw4MDYuNzgsQ3JlZGl0IENhcmQsUGVuZGluZw0KQjE4OCxQMDAyLFQxODgsMjAyMy0wNC0xMiw2MTYuMTUsQ2FzaCxQYWlkDQpCMTg5LFAwMDUsVDE4OSwyMDIzLTEwLTA1LDExMDguMjUsSW5zdXJhbmNlLEZhaWxlZA0KQjE5MCxQMDI5LFQxOTAsMjAyMy0xMS0xNiw0ODM0LjAyLENyZWRpdCBDYXJkLFBhaWQNCkIxOTEsUDAzNyxUMTkxLDIwMjMtMDQtMTIsMjk3Mi44OCxDcmVkaXQgQ2FyZCxGYWlsZWQNCkIxOTIsUDAzOCxUMTkyLDIwMjMtMDgtMzEsNDg0Ni4yLEluc3VyYW5jZSxQYWlkDQpCMTkzLFAwMTksVDE5MywyMDIzLTA5LTE1LDI0NDYuMjQsQ2FzaCxGYWlsZWQNCkIxOTQsUDAwOCxUMTk0LDIwMjMtMDQtMDYsMTkwMy4xNyxDYXNoLFBlbmRpbmcNCkIxOTUsUDA0OCxUMTk1LDIwMjMtMDgtMTksMjc3Ny42NCxDcmVkaXQgQ2FyZCxGYWlsZWQNCkIxOTYsUDA0NSxUMTk2LDIwMjMtMTAtMjYsMjQ3Ny44LENhc2gsUGVuZGluZw0KQjE5NyxQMDAxLFQxOTcsMjAyMy0wNC0wMSw5NzUuNDksQ2FzaCxQZW5kaW5nDQpCMTk4LFAwMjIsVDE5OCwyMDIzLTA1LTE1LDMzODMuNzIsQ2FzaCxGYWlsZWQNCkIxOTksUDAxNyxUMTk5LDIwMjMtMDUtMDEsMTQ3Mi4xNyxDcmVkaXQgQ2FyZCxQYWlkDQpCMjAwLFAwMDcsVDIwMCwyMDIzLTEyLTMwLDMyODguMTUsSW5zdXJhbmNlLFBhaWQNCg==\">Download cleaned_billing.csv</a>"
      ],
      "text/plain": [
       "<IPython.core.display.HTML object>"
      ]
     },
     "execution_count": 118,
     "metadata": {},
     "output_type": "execute_result"
    }
   ],
   "source": [
    "create_download_link(billing, filename=\"cleaned_billing.csv\")\n"
   ]
  },
  {
   "cell_type": "code",
   "execution_count": null,
   "id": "0d2a5cf5",
   "metadata": {},
   "outputs": [],
   "source": []
  }
 ],
 "metadata": {
  "kernelspec": {
   "display_name": "Python 3",
   "language": "python",
   "name": "python3"
  },
  "language_info": {
   "codemirror_mode": {
    "name": "ipython",
    "version": 3
   },
   "file_extension": ".py",
   "mimetype": "text/x-python",
   "name": "python",
   "nbconvert_exporter": "python",
   "pygments_lexer": "ipython3",
   "version": "3.13.3"
  }
 },
 "nbformat": 4,
 "nbformat_minor": 5
}
